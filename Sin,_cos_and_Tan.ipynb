import matplotlib.pyplot as plt
import numpy as np

choice = input ("choose from sin, cos, or tan: ") # this is a line where is gives the user to either input sin, cos or tan
x = np.linspace(-4*np.pi,4*np.pi,100) #here on the x axis the numbers start from -4 and ends at 4 and it used to plot on the graph. 

if choice == 'sin':
  y = np.sin(x) # this line allows us to fnd  the y values for the sin grpah by plugging in the x values. 
  plt.plot(x,y)
  plt.xlabel('x')
  plt.ylabel('y')
  plt.grid
  plt.show()
elif choice == 'cos':
  y = np.cos(x)
  plt.plot(x,y)
  plt.xlabel('x')
  plt.ylabel('y')
  plt.grid
  plt.show()

elif choice == 'tan':
  x = np.linspace(-2 *np.pi, 2 *np.pi,1000)
  y = np.tan(x)
  plt.plot(x,y)
  plt.ylim(-6,6) # This is a fucntion which sets sets the y axis of the plot from only -6 to 6. This allows us to understand the graph better 
  plt.xlabel('x')
  plt.ylabel('y')
  plt.grid
  plt.show()

else:
      print("choose from sin, cos, or tan.")

      # got the code for the tan from online website called stack over flow 
